{
 "cells": [
  {
   "cell_type": "code",
   "execution_count": 1,
   "metadata": {},
   "outputs": [
    {
     "name": "stdout",
     "output_type": "stream",
     "text": [
      "Сумма четных чисел: 30\n"
     ]
    }
   ],
   "source": [
    "numbers = [1, 2, 3, 4, 5, 6, 7, 8, 9, 10]\n",
    "sum_even = 0\n",
    "\n",
    "for number in numbers:\n",
    "    if number % 2 == 0:\n",
    "        sum_even += number\n",
    "\n",
    "print(\"Сумма четных чисел:\", sum_even)"
   ]
  },
  {
   "cell_type": "code",
   "execution_count": 2,
   "metadata": {},
   "outputs": [
    {
     "name": "stdout",
     "output_type": "stream",
     "text": [
      "Сумма четных чисел: 30\n"
     ]
    }
   ],
   "source": [
    "def filter_even(numbers): \n",
    "    myList = []\n",
    "    for number in numbers:\n",
    "        if number % 2 == 0:\n",
    "            myList.append(number)        \n",
    "    return myList        \n",
    "\n",
    "\n",
    "def calculate_sum(even_numbers):\n",
    "    even_number = 0\n",
    "    for number in even_numbers:\n",
    "        even_number += number\n",
    "    return even_number\n",
    "\n",
    "\n",
    "numbers = [1, 2, 3, 4, 5, 6, 7, 8, 9, 10]\n",
    "even_numbers = filter_even(numbers)\n",
    "sum_even = calculate_sum(even_numbers)\n",
    "\n",
    "print(\"Сумма четных чисел:\", sum_even)"
   ]
  },
  {
   "cell_type": "code",
   "execution_count": 3,
   "metadata": {},
   "outputs": [
    {
     "name": "stdout",
     "output_type": "stream",
     "text": [
      "Сумма четных чисел: 30\n"
     ]
    }
   ],
   "source": [
    "from functools import reduce\n",
    "\n",
    "numbers = [1, 2, 3, 4, 5, 6, 7, 8, 9, 10]\n",
    "\n",
    "sum_even = reduce(lambda acc, num: acc + num if num % 2 == 0 else acc, numbers, 0)\n",
    "\n",
    "print(\"Сумма четных чисел:\", sum_even)"
   ]
  }
 ],
 "metadata": {
  "kernelspec": {
   "display_name": "Python 3",
   "language": "python",
   "name": "python3"
  },
  "language_info": {
   "codemirror_mode": {
    "name": "ipython",
    "version": 3
   },
   "file_extension": ".py",
   "mimetype": "text/x-python",
   "name": "python",
   "nbconvert_exporter": "python",
   "pygments_lexer": "ipython3",
   "version": "3.13.2"
  }
 },
 "nbformat": 4,
 "nbformat_minor": 2
}
